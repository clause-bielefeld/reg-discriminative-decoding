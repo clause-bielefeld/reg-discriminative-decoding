{
 "cells": [
  {
   "cell_type": "code",
   "execution_count": 1,
   "metadata": {},
   "outputs": [],
   "source": [
    "import pandas as pd\n",
    "import re\n",
    "import os\n",
    "\n",
    "import seaborn as sns\n",
    "import matplotlib.pyplot as plt"
   ]
  },
  {
   "cell_type": "code",
   "execution_count": 2,
   "metadata": {},
   "outputs": [],
   "source": [
    "quality_path = '../refcoco_api/results/'\n",
    "mcn_path =  '../data/mcn_results/'"
   ]
  },
  {
   "cell_type": "code",
   "execution_count": 3,
   "metadata": {},
   "outputs": [],
   "source": [
    "def index_names(name):\n",
    "\n",
    "    patterns = [\n",
    "        (r'.*beam_l-na_r-na', 'beam'),\n",
    "        (r'.*greedy_l-na_r-na', 'greedy'),\n",
    "        (r'.*predfuse_es_l-0-3_r-na', 'es03'),\n",
    "        (r'.*predfuse_es_l-0-5_r-na', 'es05'),\n",
    "        (r'.*predfuse_es_l-0-7_r-na', 'es07'),\n",
    "        (r'.*rsa_l-na_r-0-5', 'rsa05'),\n",
    "        (r'.*rsa_l-na_r-1-0', 'rsa10'),\n",
    "        (r'.*rsa_l-na_r-5-0', 'rsa50'),\n",
    "        (r'.*annsample', 'ann')\n",
    "    ]\n",
    "    \n",
    "    extra_patterns = [\n",
    "        (r'.*predfuse_es_l-0-1_r-na', 'es01'),\n",
    "        (r'.*predfuse_es_l-0-2_r-na', 'es02'),\n",
    "        (r'.*predfuse_es_l-0-4_r-na', 'es04'),\n",
    "        (r'.*predfuse_es_l-0-6_r-na', 'es06'),\n",
    "        (r'.*predfuse_es_l-0-8_r-na', 'es08'),\n",
    "        (r'.*predfuse_es_l-0-9_r-na', 'es09'),\n",
    "    ]\n",
    "    \n",
    "    patterns += extra_patterns\n",
    "    \n",
    "    for pattern, replace in patterns:\n",
    "        name = re.sub(pattern, replace, name)\n",
    "    \n",
    "    return name\n",
    "\n",
    "\n",
    "def reformat_index(df, ordered_index=['greedy', 'beam', 'es07', 'es05', 'es03', 'rsa05', 'rsa10', 'rsa50', 'ann']):\n",
    "\n",
    "    df.index = df.index.map(index_names)\n",
    "    df.index = pd.Categorical(df.index, \n",
    "                              categories=ordered_index,\n",
    "                              ordered=True)\n",
    "    return df\n",
    "\n",
    "\n",
    "def get_split(x):\n",
    "    return x.split('_')[1]"
   ]
  },
  {
   "cell_type": "markdown",
   "metadata": {},
   "source": [
    "# quality"
   ]
  },
  {
   "cell_type": "code",
   "execution_count": 4,
   "metadata": {},
   "outputs": [],
   "source": [
    "quality_files = [os.path.join(quality_path, file) for file in os.listdir(quality_path)]"
   ]
  },
  {
   "cell_type": "code",
   "execution_count": 5,
   "metadata": {},
   "outputs": [],
   "source": [
    "refcoco_file = os.path.join(quality_path, 'refcoco_quality_results.csv')\n",
    "refcocop_file = os.path.join(quality_path, 'refcoco+_quality_results.csv')\n",
    "refcocog_file = os.path.join(quality_path, 'refcocog_quality_results.csv')"
   ]
  },
  {
   "cell_type": "code",
   "execution_count": 6,
   "metadata": {},
   "outputs": [],
   "source": [
    "ordered_index = ['greedy', 'beam', 'es07', 'es05', 'es03', 'rsa05', 'rsa10', 'rsa50', 'ann']\n",
    "selected_columns = [\n",
    "    'Bleu_1', \n",
    "#    'Bleu_2', \n",
    "    'CIDEr'\n",
    "]\n",
    "_round = {'Bleu_1': 10, 'CIDEr': 20}"
   ]
  },
  {
   "cell_type": "code",
   "execution_count": 7,
   "metadata": {},
   "outputs": [],
   "source": [
    "refcoco_quality = pd.read_csv(refcoco_file, index_col=0)\n",
    "refcoco_quality['split'] = refcoco_quality.index.map(get_split)\n",
    "refcoco_quality = reformat_index(refcoco_quality)\n",
    "refcoco_quality['Bleu_1'] = refcoco_quality['Bleu_1'] * 100\n",
    "refcoco_quality = refcoco_quality.round(_round)\n",
    "\n",
    "refcoco_quality_testA = refcoco_quality.loc[refcoco_quality.split == 'testA'].sort_index()[selected_columns]\n",
    "refcoco_quality_testA.columns = pd.MultiIndex.from_product([[\"testA\"], refcoco_quality_testA.columns])\n",
    "\n",
    "refcoco_quality_testB = refcoco_quality.loc[refcoco_quality.split == 'testB'].sort_index()[selected_columns]\n",
    "refcoco_quality_testB.columns = pd.MultiIndex.from_product([[\"testB\"], refcoco_quality_testB.columns])\n",
    "\n",
    "refcocop_quality = pd.read_csv(refcocop_file, index_col=0)\n",
    "refcocop_quality['split'] = refcocop_quality.index.map(get_split)\n",
    "refcocop_quality = reformat_index(refcocop_quality)\n",
    "refcocop_quality['Bleu_1'] = refcocop_quality['Bleu_1'] * 100\n",
    "refcocop_quality = refcocop_quality.round(_round)\n",
    "\n",
    "refcocop_quality_testA = refcocop_quality.loc[refcocop_quality.split == 'testA'].sort_index()[selected_columns]\n",
    "refcocop_quality_testA.columns = pd.MultiIndex.from_product([[\"testA+\"], refcocop_quality_testA.columns])\n",
    "\n",
    "refcocop_quality_testB = refcocop_quality.loc[refcocop_quality.split == 'testB'].sort_index()[selected_columns]\n",
    "refcocop_quality_testB.columns = pd.MultiIndex.from_product([[\"testB+\"], refcocop_quality_testB.columns])\n",
    "\n",
    "refcocog_quality = pd.read_csv(refcocog_file, index_col=0)\n",
    "refcocog_quality['split'] = refcocog_quality.index.map(get_split)\n",
    "refcocog_quality = reformat_index(refcocog_quality)\n",
    "refcocog_quality['Bleu_1'] = refcocog_quality['Bleu_1'] * 100\n",
    "refcocog_quality = refcocog_quality.round(_round)\n",
    "\n",
    "refcocog_quality_test = refcocog_quality.loc[refcocog_quality.split == 'test'].sort_index()[selected_columns]\n",
    "refcocog_quality_test.columns = pd.MultiIndex.from_product([[\"testg\"], refcocog_quality_test.columns])"
   ]
  },
  {
   "cell_type": "code",
   "execution_count": 8,
   "metadata": {},
   "outputs": [
    {
     "name": "stdout",
     "output_type": "stream",
     "text": [
      "\\begin{tabular}{lrrrrrrrrrr}\n",
      "\\toprule\n",
      "{} & \\multicolumn{2}{l}{testA} & \\multicolumn{2}{l}{testB} & \\multicolumn{2}{l}{testA+} & \\multicolumn{2}{l}{testB+} & \\multicolumn{2}{l}{testg} \\\\\n",
      "{} &      Bleu\\_1 &     CIDEr &      Bleu\\_1 &     CIDEr &      Bleu\\_1 &     CIDEr &      Bleu\\_1 &     CIDEr &      Bleu\\_1 &     CIDEr \\\\\n",
      "\\midrule\n",
      "greedy &   53.247874 &  0.792400 &   56.152687 &  1.268892 &   45.609185 &  0.678206 &   33.932929 &  0.636696 &   44.985229 &  0.705057 \\\\\n",
      "beam   &   52.823791 &  0.806644 &   55.438707 &  1.312195 &   40.432405 &  0.663705 &   32.527953 &  0.748805 &   45.003220 &  0.786220 \\\\\n",
      "es07   &   52.864722 &  0.799691 &   55.705072 &  1.240842 &   40.269092 &  0.670867 &   30.882333 &  0.708353 &   44.086456 &  0.744497 \\\\\n",
      "es05   &   49.814756 &  0.733767 &   53.261126 &  1.114785 &   37.113972 &  0.602526 &   27.437358 &  0.605249 &   40.428734 &  0.629020 \\\\\n",
      "es03   &   35.778148 &  0.527885 &   44.535568 &  0.807336 &   23.102764 &  0.374305 &   21.034349 &  0.398481 &   29.493659 &  0.368602 \\\\\n",
      "rsa05  &   50.203420 &  0.774068 &   55.103723 &  1.257544 &   32.729246 &  0.583654 &   28.218522 &  0.674206 &   43.512304 &  0.700709 \\\\\n",
      "rsa10  &   50.431670 &  0.768714 &   54.808315 &  1.220432 &   33.294726 &  0.590076 &   27.477155 &  0.647097 &   43.008779 &  0.691378 \\\\\n",
      "rsa50  &   50.945447 &  0.748195 &   52.721400 &  1.049268 &   35.410821 &  0.567528 &   25.698117 &  0.582917 &   40.190812 &  0.605490 \\\\\n",
      "ann    &  100.000000 &  3.161448 &  100.000000 &  3.623290 &  100.000000 &  3.122783 &  100.000000 &  3.735229 &  100.000000 &  5.736786 \\\\\n",
      "\\bottomrule\n",
      "\\end{tabular}\n",
      "\n"
     ]
    }
   ],
   "source": [
    "combined_quality_table = pd.concat([refcoco_quality_testA, refcoco_quality_testB, refcocop_quality_testA, refcocop_quality_testB, refcocog_quality_test], axis=1)\n",
    "print(combined_quality_table.to_latex())"
   ]
  },
  {
   "cell_type": "markdown",
   "metadata": {},
   "source": [
    "# MCN"
   ]
  },
  {
   "cell_type": "code",
   "execution_count": 9,
   "metadata": {},
   "outputs": [],
   "source": [
    "mcn_files = [os.path.join(mcn_path, file) for file in os.listdir(mcn_path)]"
   ]
  },
  {
   "cell_type": "code",
   "execution_count": 10,
   "metadata": {},
   "outputs": [],
   "source": [
    "seg_pattern = r'iou: (\\d\\.\\d+)'\n",
    "det_pattern = r'Acc@\\.5: (\\d\\.\\d+)'\n",
    "ie_pattern = r'IE score : (\\d\\.\\d+)'"
   ]
  },
  {
   "cell_type": "code",
   "execution_count": 11,
   "metadata": {},
   "outputs": [],
   "source": [
    "refcoco_files = [f for f in mcn_files if '_refcoco_' in f]\n",
    "refcocop_files = [f for f in mcn_files if '_refcoco+_' in f]\n",
    "refcocog_files = [f for f in mcn_files if '_refcocog_' in f]"
   ]
  },
  {
   "cell_type": "code",
   "execution_count": 12,
   "metadata": {},
   "outputs": [],
   "source": [
    "def mcn2df(list_of_files): \n",
    "    mcn_df = pd.DataFrame()\n",
    "\n",
    "    for file in sorted(list_of_files):\n",
    "        with open(file) as f:\n",
    "            data = f.read()\n",
    "\n",
    "        seg_result = float(re.search(seg_pattern, data).group(1))\n",
    "        det_result = float(re.search(det_pattern, data).group(1))\n",
    "        ie_result = float(re.search(ie_pattern, data).group(1))\n",
    "\n",
    "        name = os.path.split(file)[-1].replace('_cleaned_filtered.txt', '')\n",
    "\n",
    "        mcn_df = mcn_df.append(pd.Series(\n",
    "            {'segmentation': seg_result*100, 'detection': det_result*100, 'IE': ie_result},\n",
    "            name=name\n",
    "        ))\n",
    "        \n",
    "    def get_split(x):\n",
    "        return x.split('_')[2]\n",
    "        \n",
    "    mcn_df['split'] = mcn_df.index.map(get_split)\n",
    "\n",
    "    return mcn_df"
   ]
  },
  {
   "cell_type": "code",
   "execution_count": 13,
   "metadata": {},
   "outputs": [],
   "source": [
    "refcoco_mcn = mcn2df(refcoco_files).round(1)\n",
    "refcoco_mcn = reformat_index(refcoco_mcn)\n",
    "\n",
    "refcocop_mcn = mcn2df(refcocop_files).round(1)\n",
    "refcocop_mcn = reformat_index(refcocop_mcn)\n",
    "\n",
    "refcocog_mcn = mcn2df(refcocog_files).round(1)\n",
    "refcocog_mcn = reformat_index(refcocog_mcn)"
   ]
  },
  {
   "cell_type": "code",
   "execution_count": 14,
   "metadata": {},
   "outputs": [],
   "source": [
    "mcn_selected_columns = [\n",
    "    'detection', \n",
    "    #'segmentation'\n",
    "]\n",
    "\n",
    "_round = {'detection': 2, 'segmentation': 2}"
   ]
  },
  {
   "cell_type": "code",
   "execution_count": 15,
   "metadata": {},
   "outputs": [],
   "source": [
    "refcoco_mcn_testA = refcoco_mcn.loc[refcoco_mcn.split == 'testA'].sort_index()[mcn_selected_columns].round(_round)\n",
    "refcoco_mcn_testA.columns = pd.MultiIndex.from_product([[\"testA\"], refcoco_mcn_testA.columns])\n",
    "\n",
    "refcoco_mcn_testB = refcoco_mcn.loc[refcoco_mcn.split == 'testB'].sort_index()[mcn_selected_columns].round(_round)\n",
    "refcoco_mcn_testB.columns = pd.MultiIndex.from_product([[\"testB\"], refcoco_mcn_testB.columns])\n",
    "\n",
    "refcocop_mcn_testA = refcocop_mcn.loc[refcocop_mcn.split == 'testA'].sort_index()[mcn_selected_columns].round(_round)\n",
    "refcocop_mcn_testA.columns = pd.MultiIndex.from_product([[\"testA+\"], refcocop_mcn_testA.columns])\n",
    "\n",
    "refcocop_mcn_testB = refcocop_mcn.loc[refcocop_mcn.split == 'testB'].sort_index()[mcn_selected_columns].round(_round)\n",
    "refcocop_mcn_testB.columns = pd.MultiIndex.from_product([[\"testB+\"], refcocop_mcn_testB.columns])\n",
    "\n",
    "refcocog_mcn_test = refcocog_mcn.loc[refcocog_mcn.split == 'test'].sort_index()[mcn_selected_columns].round(_round)\n",
    "refcocog_mcn_test.columns = pd.MultiIndex.from_product([[\"testg\"], refcocog_mcn_test.columns])"
   ]
  },
  {
   "cell_type": "code",
   "execution_count": 16,
   "metadata": {},
   "outputs": [],
   "source": [
    "combined_mcn_table = pd.concat([refcoco_mcn_testA, refcoco_mcn_testB, refcocop_mcn_testA, refcocop_mcn_testB, refcocog_mcn_test], axis=1)\n",
    "combined_mcn_table"
   ]
  },
  {
   "cell_type": "raw",
   "metadata": {},
   "source": [
    "print(combined_mcn_table.rename(columns={'segmentation': 'seg.', 'detection': 'det.'}).to_latex())"
   ]
  },
  {
   "cell_type": "code",
   "execution_count": 18,
   "metadata": {},
   "outputs": [],
   "source": [
    "refcoco_testA = pd.concat([refcoco_quality_testA, refcoco_mcn_testA], axis=1)\n",
    "refcoco_testB = pd.concat([refcoco_quality_testB, refcoco_mcn_testB], axis=1)\n",
    "refcocop_testA = pd.concat([refcocop_quality_testA, refcocop_mcn_testA], axis=1)\n",
    "refcocop_testB = pd.concat([refcocop_quality_testB, refcocop_mcn_testB], axis=1)\n",
    "refcocog_test = pd.concat([refcocog_quality_test, refcocog_mcn_test], axis=1)"
   ]
  },
  {
   "cell_type": "code",
   "execution_count": 19,
   "metadata": {},
   "outputs": [],
   "source": [
    "combined_quality_mcn = pd.concat([refcoco_testA,refcoco_testB,refcocop_testA,refcocop_testB,refcocog_test], axis=1)\n",
    "combined_quality_mcn"
   ]
  },
  {
   "cell_type": "raw",
   "metadata": {},
   "source": [
    "print(\n",
    "    combined_quality_mcn.to_latex()\n",
    ")"
   ]
  },
  {
   "cell_type": "code",
   "execution_count": 48,
   "metadata": {},
   "outputs": [
    {
     "data": {
      "text/html": [
       "<style  type=\"text/css\" >\n",
       "#T_84993_row0_col0,#T_84993_row0_col3,#T_84993_row0_col6,#T_84993_row0_col7,#T_84993_row0_col9,#T_84993_row1_col1,#T_84993_row1_col4,#T_84993_row1_col10,#T_84993_row1_col12,#T_84993_row1_col13,#T_84993_row3_col2,#T_84993_row3_col5,#T_84993_row3_col8,#T_84993_row4_col11,#T_84993_row7_col14{\n",
       "            background-color:  lightgreen;\n",
       "        }</style><table id=\"T_84993_\" ><thead>    <tr>        <th class=\"blank level0\" ></th>        <th class=\"col_heading level0 col0\" colspan=\"3\">testA</th>        <th class=\"col_heading level0 col3\" colspan=\"3\">testB</th>        <th class=\"col_heading level0 col6\" colspan=\"3\">testA+</th>        <th class=\"col_heading level0 col9\" colspan=\"3\">testB+</th>        <th class=\"col_heading level0 col12\" colspan=\"3\">testg</th>    </tr>    <tr>        <th class=\"blank level1\" ></th>        <th class=\"col_heading level1 col0\" >Bleu_1</th>        <th class=\"col_heading level1 col1\" >CIDEr</th>        <th class=\"col_heading level1 col2\" >detection</th>        <th class=\"col_heading level1 col3\" >Bleu_1</th>        <th class=\"col_heading level1 col4\" >CIDEr</th>        <th class=\"col_heading level1 col5\" >detection</th>        <th class=\"col_heading level1 col6\" >Bleu_1</th>        <th class=\"col_heading level1 col7\" >CIDEr</th>        <th class=\"col_heading level1 col8\" >detection</th>        <th class=\"col_heading level1 col9\" >Bleu_1</th>        <th class=\"col_heading level1 col10\" >CIDEr</th>        <th class=\"col_heading level1 col11\" >detection</th>        <th class=\"col_heading level1 col12\" >Bleu_1</th>        <th class=\"col_heading level1 col13\" >CIDEr</th>        <th class=\"col_heading level1 col14\" >detection</th>    </tr></thead><tbody>\n",
       "                <tr>\n",
       "                        <th id=\"T_84993_level0_row0\" class=\"row_heading level0 row0\" >greedy</th>\n",
       "                        <td id=\"T_84993_row0_col0\" class=\"data row0 col0\" >53.250000</td>\n",
       "                        <td id=\"T_84993_row0_col1\" class=\"data row0 col1\" >0.790000</td>\n",
       "                        <td id=\"T_84993_row0_col2\" class=\"data row0 col2\" >75.100000</td>\n",
       "                        <td id=\"T_84993_row0_col3\" class=\"data row0 col3\" >56.150000</td>\n",
       "                        <td id=\"T_84993_row0_col4\" class=\"data row0 col4\" >1.270000</td>\n",
       "                        <td id=\"T_84993_row0_col5\" class=\"data row0 col5\" >66.400000</td>\n",
       "                        <td id=\"T_84993_row0_col6\" class=\"data row0 col6\" >45.610000</td>\n",
       "                        <td id=\"T_84993_row0_col7\" class=\"data row0 col7\" >0.680000</td>\n",
       "                        <td id=\"T_84993_row0_col8\" class=\"data row0 col8\" >63.800000</td>\n",
       "                        <td id=\"T_84993_row0_col9\" class=\"data row0 col9\" >33.930000</td>\n",
       "                        <td id=\"T_84993_row0_col10\" class=\"data row0 col10\" >0.640000</td>\n",
       "                        <td id=\"T_84993_row0_col11\" class=\"data row0 col11\" >43.000000</td>\n",
       "                        <td id=\"T_84993_row0_col12\" class=\"data row0 col12\" >44.990000</td>\n",
       "                        <td id=\"T_84993_row0_col13\" class=\"data row0 col13\" >0.710000</td>\n",
       "                        <td id=\"T_84993_row0_col14\" class=\"data row0 col14\" >54.400000</td>\n",
       "            </tr>\n",
       "            <tr>\n",
       "                        <th id=\"T_84993_level0_row1\" class=\"row_heading level0 row1\" >beam</th>\n",
       "                        <td id=\"T_84993_row1_col0\" class=\"data row1 col0\" >52.820000</td>\n",
       "                        <td id=\"T_84993_row1_col1\" class=\"data row1 col1\" >0.810000</td>\n",
       "                        <td id=\"T_84993_row1_col2\" class=\"data row1 col2\" >75.000000</td>\n",
       "                        <td id=\"T_84993_row1_col3\" class=\"data row1 col3\" >55.440000</td>\n",
       "                        <td id=\"T_84993_row1_col4\" class=\"data row1 col4\" >1.310000</td>\n",
       "                        <td id=\"T_84993_row1_col5\" class=\"data row1 col5\" >66.000000</td>\n",
       "                        <td id=\"T_84993_row1_col6\" class=\"data row1 col6\" >40.430000</td>\n",
       "                        <td id=\"T_84993_row1_col7\" class=\"data row1 col7\" >0.660000</td>\n",
       "                        <td id=\"T_84993_row1_col8\" class=\"data row1 col8\" >62.400000</td>\n",
       "                        <td id=\"T_84993_row1_col9\" class=\"data row1 col9\" >32.530000</td>\n",
       "                        <td id=\"T_84993_row1_col10\" class=\"data row1 col10\" >0.750000</td>\n",
       "                        <td id=\"T_84993_row1_col11\" class=\"data row1 col11\" >43.600000</td>\n",
       "                        <td id=\"T_84993_row1_col12\" class=\"data row1 col12\" >45.000000</td>\n",
       "                        <td id=\"T_84993_row1_col13\" class=\"data row1 col13\" >0.790000</td>\n",
       "                        <td id=\"T_84993_row1_col14\" class=\"data row1 col14\" >54.800000</td>\n",
       "            </tr>\n",
       "            <tr>\n",
       "                        <th id=\"T_84993_level0_row2\" class=\"row_heading level0 row2\" >es07</th>\n",
       "                        <td id=\"T_84993_row2_col0\" class=\"data row2 col0\" >52.860000</td>\n",
       "                        <td id=\"T_84993_row2_col1\" class=\"data row2 col1\" >0.800000</td>\n",
       "                        <td id=\"T_84993_row2_col2\" class=\"data row2 col2\" >77.600000</td>\n",
       "                        <td id=\"T_84993_row2_col3\" class=\"data row2 col3\" >55.710000</td>\n",
       "                        <td id=\"T_84993_row2_col4\" class=\"data row2 col4\" >1.240000</td>\n",
       "                        <td id=\"T_84993_row2_col5\" class=\"data row2 col5\" >70.500000</td>\n",
       "                        <td id=\"T_84993_row2_col6\" class=\"data row2 col6\" >40.270000</td>\n",
       "                        <td id=\"T_84993_row2_col7\" class=\"data row2 col7\" >0.670000</td>\n",
       "                        <td id=\"T_84993_row2_col8\" class=\"data row2 col8\" >67.100000</td>\n",
       "                        <td id=\"T_84993_row2_col9\" class=\"data row2 col9\" >30.880000</td>\n",
       "                        <td id=\"T_84993_row2_col10\" class=\"data row2 col10\" >0.710000</td>\n",
       "                        <td id=\"T_84993_row2_col11\" class=\"data row2 col11\" >46.900000</td>\n",
       "                        <td id=\"T_84993_row2_col12\" class=\"data row2 col12\" >44.090000</td>\n",
       "                        <td id=\"T_84993_row2_col13\" class=\"data row2 col13\" >0.740000</td>\n",
       "                        <td id=\"T_84993_row2_col14\" class=\"data row2 col14\" >57.100000</td>\n",
       "            </tr>\n",
       "            <tr>\n",
       "                        <th id=\"T_84993_level0_row3\" class=\"row_heading level0 row3\" >es05</th>\n",
       "                        <td id=\"T_84993_row3_col0\" class=\"data row3 col0\" >49.810000</td>\n",
       "                        <td id=\"T_84993_row3_col1\" class=\"data row3 col1\" >0.730000</td>\n",
       "                        <td id=\"T_84993_row3_col2\" class=\"data row3 col2\" >80.600000</td>\n",
       "                        <td id=\"T_84993_row3_col3\" class=\"data row3 col3\" >53.260000</td>\n",
       "                        <td id=\"T_84993_row3_col4\" class=\"data row3 col4\" >1.110000</td>\n",
       "                        <td id=\"T_84993_row3_col5\" class=\"data row3 col5\" >71.800000</td>\n",
       "                        <td id=\"T_84993_row3_col6\" class=\"data row3 col6\" >37.110000</td>\n",
       "                        <td id=\"T_84993_row3_col7\" class=\"data row3 col7\" >0.600000</td>\n",
       "                        <td id=\"T_84993_row3_col8\" class=\"data row3 col8\" >68.700000</td>\n",
       "                        <td id=\"T_84993_row3_col9\" class=\"data row3 col9\" >27.440000</td>\n",
       "                        <td id=\"T_84993_row3_col10\" class=\"data row3 col10\" >0.610000</td>\n",
       "                        <td id=\"T_84993_row3_col11\" class=\"data row3 col11\" >47.300000</td>\n",
       "                        <td id=\"T_84993_row3_col12\" class=\"data row3 col12\" >40.430000</td>\n",
       "                        <td id=\"T_84993_row3_col13\" class=\"data row3 col13\" >0.630000</td>\n",
       "                        <td id=\"T_84993_row3_col14\" class=\"data row3 col14\" >57.000000</td>\n",
       "            </tr>\n",
       "            <tr>\n",
       "                        <th id=\"T_84993_level0_row4\" class=\"row_heading level0 row4\" >es03</th>\n",
       "                        <td id=\"T_84993_row4_col0\" class=\"data row4 col0\" >35.780000</td>\n",
       "                        <td id=\"T_84993_row4_col1\" class=\"data row4 col1\" >0.530000</td>\n",
       "                        <td id=\"T_84993_row4_col2\" class=\"data row4 col2\" >79.100000</td>\n",
       "                        <td id=\"T_84993_row4_col3\" class=\"data row4 col3\" >44.540000</td>\n",
       "                        <td id=\"T_84993_row4_col4\" class=\"data row4 col4\" >0.810000</td>\n",
       "                        <td id=\"T_84993_row4_col5\" class=\"data row4 col5\" >71.300000</td>\n",
       "                        <td id=\"T_84993_row4_col6\" class=\"data row4 col6\" >23.100000</td>\n",
       "                        <td id=\"T_84993_row4_col7\" class=\"data row4 col7\" >0.370000</td>\n",
       "                        <td id=\"T_84993_row4_col8\" class=\"data row4 col8\" >66.500000</td>\n",
       "                        <td id=\"T_84993_row4_col9\" class=\"data row4 col9\" >21.030000</td>\n",
       "                        <td id=\"T_84993_row4_col10\" class=\"data row4 col10\" >0.400000</td>\n",
       "                        <td id=\"T_84993_row4_col11\" class=\"data row4 col11\" >48.100000</td>\n",
       "                        <td id=\"T_84993_row4_col12\" class=\"data row4 col12\" >29.490000</td>\n",
       "                        <td id=\"T_84993_row4_col13\" class=\"data row4 col13\" >0.370000</td>\n",
       "                        <td id=\"T_84993_row4_col14\" class=\"data row4 col14\" >54.600000</td>\n",
       "            </tr>\n",
       "            <tr>\n",
       "                        <th id=\"T_84993_level0_row5\" class=\"row_heading level0 row5\" >rsa05</th>\n",
       "                        <td id=\"T_84993_row5_col0\" class=\"data row5 col0\" >50.200000</td>\n",
       "                        <td id=\"T_84993_row5_col1\" class=\"data row5 col1\" >0.770000</td>\n",
       "                        <td id=\"T_84993_row5_col2\" class=\"data row5 col2\" >76.000000</td>\n",
       "                        <td id=\"T_84993_row5_col3\" class=\"data row5 col3\" >55.100000</td>\n",
       "                        <td id=\"T_84993_row5_col4\" class=\"data row5 col4\" >1.260000</td>\n",
       "                        <td id=\"T_84993_row5_col5\" class=\"data row5 col5\" >69.400000</td>\n",
       "                        <td id=\"T_84993_row5_col6\" class=\"data row5 col6\" >32.730000</td>\n",
       "                        <td id=\"T_84993_row5_col7\" class=\"data row5 col7\" >0.580000</td>\n",
       "                        <td id=\"T_84993_row5_col8\" class=\"data row5 col8\" >62.800000</td>\n",
       "                        <td id=\"T_84993_row5_col9\" class=\"data row5 col9\" >28.220000</td>\n",
       "                        <td id=\"T_84993_row5_col10\" class=\"data row5 col10\" >0.670000</td>\n",
       "                        <td id=\"T_84993_row5_col11\" class=\"data row5 col11\" >44.400000</td>\n",
       "                        <td id=\"T_84993_row5_col12\" class=\"data row5 col12\" >43.510000</td>\n",
       "                        <td id=\"T_84993_row5_col13\" class=\"data row5 col13\" >0.700000</td>\n",
       "                        <td id=\"T_84993_row5_col14\" class=\"data row5 col14\" >55.700000</td>\n",
       "            </tr>\n",
       "            <tr>\n",
       "                        <th id=\"T_84993_level0_row6\" class=\"row_heading level0 row6\" >rsa10</th>\n",
       "                        <td id=\"T_84993_row6_col0\" class=\"data row6 col0\" >50.430000</td>\n",
       "                        <td id=\"T_84993_row6_col1\" class=\"data row6 col1\" >0.770000</td>\n",
       "                        <td id=\"T_84993_row6_col2\" class=\"data row6 col2\" >76.400000</td>\n",
       "                        <td id=\"T_84993_row6_col3\" class=\"data row6 col3\" >54.810000</td>\n",
       "                        <td id=\"T_84993_row6_col4\" class=\"data row6 col4\" >1.220000</td>\n",
       "                        <td id=\"T_84993_row6_col5\" class=\"data row6 col5\" >69.100000</td>\n",
       "                        <td id=\"T_84993_row6_col6\" class=\"data row6 col6\" >33.290000</td>\n",
       "                        <td id=\"T_84993_row6_col7\" class=\"data row6 col7\" >0.590000</td>\n",
       "                        <td id=\"T_84993_row6_col8\" class=\"data row6 col8\" >63.200000</td>\n",
       "                        <td id=\"T_84993_row6_col9\" class=\"data row6 col9\" >27.480000</td>\n",
       "                        <td id=\"T_84993_row6_col10\" class=\"data row6 col10\" >0.650000</td>\n",
       "                        <td id=\"T_84993_row6_col11\" class=\"data row6 col11\" >44.600000</td>\n",
       "                        <td id=\"T_84993_row6_col12\" class=\"data row6 col12\" >43.010000</td>\n",
       "                        <td id=\"T_84993_row6_col13\" class=\"data row6 col13\" >0.690000</td>\n",
       "                        <td id=\"T_84993_row6_col14\" class=\"data row6 col14\" >56.100000</td>\n",
       "            </tr>\n",
       "            <tr>\n",
       "                        <th id=\"T_84993_level0_row7\" class=\"row_heading level0 row7\" >rsa50</th>\n",
       "                        <td id=\"T_84993_row7_col0\" class=\"data row7 col0\" >50.950000</td>\n",
       "                        <td id=\"T_84993_row7_col1\" class=\"data row7 col1\" >0.750000</td>\n",
       "                        <td id=\"T_84993_row7_col2\" class=\"data row7 col2\" >79.300000</td>\n",
       "                        <td id=\"T_84993_row7_col3\" class=\"data row7 col3\" >52.720000</td>\n",
       "                        <td id=\"T_84993_row7_col4\" class=\"data row7 col4\" >1.050000</td>\n",
       "                        <td id=\"T_84993_row7_col5\" class=\"data row7 col5\" >70.900000</td>\n",
       "                        <td id=\"T_84993_row7_col6\" class=\"data row7 col6\" >35.410000</td>\n",
       "                        <td id=\"T_84993_row7_col7\" class=\"data row7 col7\" >0.570000</td>\n",
       "                        <td id=\"T_84993_row7_col8\" class=\"data row7 col8\" >66.300000</td>\n",
       "                        <td id=\"T_84993_row7_col9\" class=\"data row7 col9\" >25.700000</td>\n",
       "                        <td id=\"T_84993_row7_col10\" class=\"data row7 col10\" >0.580000</td>\n",
       "                        <td id=\"T_84993_row7_col11\" class=\"data row7 col11\" >46.800000</td>\n",
       "                        <td id=\"T_84993_row7_col12\" class=\"data row7 col12\" >40.190000</td>\n",
       "                        <td id=\"T_84993_row7_col13\" class=\"data row7 col13\" >0.610000</td>\n",
       "                        <td id=\"T_84993_row7_col14\" class=\"data row7 col14\" >57.400000</td>\n",
       "            </tr>\n",
       "    </tbody></table>"
      ],
      "text/plain": [
       "<pandas.io.formats.style.Styler at 0x7fc76e30a190>"
      ]
     },
     "execution_count": 48,
     "metadata": {},
     "output_type": "execute_result"
    }
   ],
   "source": [
    "combined_quality_mcn.round(2).drop('ann').style.highlight_max(color = 'lightgreen', axis = 0, )"
   ]
  }
 ],
 "metadata": {
  "kernelspec": {
   "display_name": "spacy",
   "language": "python",
   "name": "spacy"
  },
  "language_info": {
   "codemirror_mode": {
    "name": "ipython",
    "version": 3
   },
   "file_extension": ".py",
   "mimetype": "text/x-python",
   "name": "python",
   "nbconvert_exporter": "python",
   "pygments_lexer": "ipython3",
   "version": "3.9.4"
  }
 },
 "nbformat": 4,
 "nbformat_minor": 4
}
